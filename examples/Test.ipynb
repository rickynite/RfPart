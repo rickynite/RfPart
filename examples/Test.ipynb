{
 "cells": [
  {
   "cell_type": "code",
   "execution_count": 1,
   "id": "96cba2b2-e378-4798-8fdc-bd7f1429755d",
   "metadata": {
    "tags": []
   },
   "outputs": [
    {
     "name": "stdout",
     "output_type": "stream",
     "text": [
      "RfPart 1:\n",
      "RfPart(frequency   =[   1.000   2.000   3.000 ...   8.000   9.000]*1e9 (9 points),\n",
      "       gain        =[  10.000  11.000  12.000 ...  17.000  18.000],\n",
      "       noise_figure=[   5.000   6.000   7.000 ...  12.000  13.000],\n",
      "       input_p1db  =[ -10.000  -8.500  -7.000 ...   0.500   2.000],\n",
      "       input_ip2   =[   0.000   1.250   2.500 ...   8.750  10.000],\n",
      "       input_ip3   =[   0.000   2.500   5.000 ...  17.500  20.000],\n",
      "       input_pmax  =[   5.000   6.250   7.500 ...  13.750  15.000]\n",
      ")\n",
      "\n",
      "RfPart 2:\n",
      "RfPart(frequency   =[   1.000   2.000   3.000 ...   8.000   9.000]*1e9 (9 points),\n",
      "       gain        =[  10.000  11.000  12.000 ...  17.000  18.000],\n",
      "       noise_figure=[   5.000   6.000   7.000 ...  12.000  13.000],\n",
      "       input_p1db  =[ -10.000  -8.500  -7.000 ...   0.500   2.000],\n",
      "       input_ip2   =[   0.000   1.250   2.500 ...   8.750  10.000],\n",
      "       input_ip3   =[   0.000   2.500   5.000 ...  17.500  20.000],\n",
      "       input_pmax  =[   5.000   6.250   7.500 ...  13.750  15.000]\n",
      ")\n",
      "\n",
      "RfPart 3:\n",
      "RfPart(frequency   =[   1.000   2.000   3.000 ...   8.000   9.000]*1e9 (9 points),\n",
      "       gain        =[  10.000  11.000  12.000 ...  17.000  18.000],\n",
      "       noise_figure=[   5.000   6.000   7.000 ...  12.000  13.000],\n",
      "       input_p1db  =[ -10.000  -8.500  -7.000 ...   0.500   2.000],\n",
      "       input_ip2   =[   0.000   1.250   2.500 ...   8.750  10.000],\n",
      "       input_ip3   =[   0.000   2.500   5.000 ...  17.500  20.000],\n",
      "       input_pmax  =[   5.000   6.250   7.500 ...  13.750  15.000]\n",
      ")\n",
      "\n",
      "Cascade RfPart:\n",
      "RfPart(frequency   =[   1.000   2.000   3.000 ...   8.000   9.000]*1e9 (9 points),\n",
      "       gain        =[  30.000  33.000  36.000 ...  51.000  54.000],\n",
      "       noise_figure=[   5.315   6.270   7.227 ...  12.082  13.066],\n",
      "       input_p1db  =[ -30.000 -30.500 -31.000 ... -33.500 -34.000],\n",
      "       input_ip2   =[ -20.000 -20.750 -21.500 ... -25.250 -26.000],\n",
      "       input_ip3   =[ -20.000 -19.500 -19.000 ... -16.500 -16.000],\n",
      "       input_pmax  =[ -15.000 -15.750 -16.500 ... -20.250 -21.000]\n",
      ")\n"
     ]
    }
   ],
   "source": [
    "import numpy as np\n",
    "from RfPart import RfPart\n",
    "\n",
    "# Create sample data with 9 frequency points\n",
    "freq = np.linspace(1e9, 9e9, 9)\n",
    "\n",
    "# Ensure none of the arrays are empty\n",
    "gain         = np.linspace(10, 18, len(freq))\n",
    "noise_figure = np.linspace(5, 13, len(freq))\n",
    "input_p1db   = np.linspace(-10, 2, len(freq))\n",
    "input_ip2    = np.linspace(0, 10, len(freq))\n",
    "input_ip3    = np.linspace(0, 20, len(freq))\n",
    "input_pmax   = np.linspace(5, 15, len(freq))\n",
    "\n",
    "# Create 3 RfPart instances with the same 9 frequency points\n",
    "rf_part1 = RfPart(frequency=freq, gain        =gain, \n",
    "                                  noise_figure=noise_figure, \n",
    "                                  input_p1db  =input_p1db, \n",
    "                                  input_ip2   =input_ip2, \n",
    "                                  input_ip3   =input_ip3, \n",
    "                                  input_pmax  =input_pmax)\n",
    "rf_part2 = RfPart(frequency=freq, gain        =gain, \n",
    "                                  noise_figure=noise_figure, \n",
    "                                  input_p1db  =input_p1db, \n",
    "                                  input_ip2   =input_ip2, \n",
    "                                  input_ip3   =input_ip3, \n",
    "                                  input_pmax  =input_pmax)\n",
    "rf_part3 = RfPart(frequency=freq, gain        =gain, \n",
    "                                  noise_figure=noise_figure, \n",
    "                                  input_p1db  =input_p1db, \n",
    "                                  input_ip2   =input_ip2, \n",
    "                                  input_ip3   =input_ip3, \n",
    "                                  input_pmax  =input_pmax)\n",
    "\n",
    "# Display the attributes of the three RfPart instances\n",
    "print(\"RfPart 1:\")\n",
    "print(rf_part1)\n",
    "print(\"\\nRfPart 2:\")\n",
    "print(rf_part2)\n",
    "print(\"\\nRfPart 3:\")\n",
    "print(rf_part3)\n",
    "\n",
    "# Cascade the three RfPart instances and display the resulting cascade\n",
    "cascade_rf_part = RfPart.cascade([rf_part1, rf_part2, rf_part3])\n",
    "print(\"\\nCascade RfPart:\")\n",
    "print(cascade_rf_part)\n"
   ]
  }
 ],
 "metadata": {
  "kernelspec": {
   "display_name": "Python 3 (ipykernel)",
   "language": "python",
   "name": "python3"
  },
  "language_info": {
   "codemirror_mode": {
    "name": "ipython",
    "version": 3
   },
   "file_extension": ".py",
   "mimetype": "text/x-python",
   "name": "python",
   "nbconvert_exporter": "python",
   "pygments_lexer": "ipython3",
   "version": "3.10.6"
  }
 },
 "nbformat": 4,
 "nbformat_minor": 5
}
